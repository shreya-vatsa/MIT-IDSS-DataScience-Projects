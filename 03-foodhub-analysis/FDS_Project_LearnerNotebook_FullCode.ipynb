{
 "cells": [
  {
   "cell_type": "markdown",
   "metadata": {
    "id": "Gc8x8QimJY_H"
   },
   "source": [
    "# Project Foundations for Data Science: FoodHub Data Analysis\n",
    "\n",
    "**Marks: 40**"
   ]
  },
  {
   "cell_type": "markdown",
   "metadata": {
    "id": "NqikjkWwJY_L"
   },
   "source": [
    "### Context\n",
    "\n",
    "The number of restaurants in New York is increasing day by day. Lots of students and busy professionals rely on those restaurants due to their hectic lifestyles. Online food delivery service is a great option for them. It provides them with good food from their favorite restaurants. A food aggregator company FoodHub offers access to multiple restaurants through a single smartphone app.\n",
    "\n",
    "The app allows the restaurants to receive a direct online order from a customer. The app assigns a delivery person from the company to pick up the order after it is confirmed by the restaurant. The delivery person then uses the map to reach the restaurant and waits for the food package. Once the food package is handed over to the delivery person, he/she confirms the pick-up in the app and travels to the customer's location to deliver the food. The delivery person confirms the drop-off in the app after delivering the food package to the customer. The customer can rate the order in the app. The food aggregator earns money by collecting a fixed margin of the delivery order from the restaurants.\n",
    "\n",
    "### Objective\n",
    "\n",
    "The food aggregator company has stored the data of the different orders made by the registered customers in their online portal. They want to analyze the data to get a fair idea about the demand of different restaurants which will help them in enhancing their customer experience. Suppose you are hired as a Data Scientist in this company and the Data Science team has shared some of the key questions that need to be answered. Perform the data analysis to find answers to these questions that will help the company to improve the business. \n",
    "\n",
    "### Data Description\n",
    "\n",
    "The data contains the different data related to a food order. The detailed data dictionary is given below.\n",
    "\n",
    "### Data Dictionary\n",
    "\n",
    "* order_id: Unique ID of the order\n",
    "* customer_id: ID of the customer who ordered the food\n",
    "* restaurant_name: Name of the restaurant\n",
    "* cuisine_type: Cuisine ordered by the customer\n",
    "* cost: Cost of the order\n",
    "* day_of_the_week: Indicates whether the order is placed on a weekday or weekend (The weekday is from Monday to Friday and the weekend is Saturday and Sunday)\n",
    "* rating: Rating given by the customer out of 5\n",
    "* food_preparation_time: Time (in minutes) taken by the restaurant to prepare the food. This is calculated by taking the difference between the timestamps of the restaurant's order confirmation and the delivery person's pick-up confirmation.\n",
    "* delivery_time: Time (in minutes) taken by the delivery person to deliver the food package. This is calculated by taking the difference between the timestamps of the delivery person's pick-up confirmation and drop-off information"
   ]
  },
  {
   "cell_type": "markdown",
   "metadata": {
    "id": "cEtNUxNAJY_M"
   },
   "source": [
    "### Let us start by importing the required libraries"
   ]
  },
  {
   "cell_type": "code",
   "execution_count": null,
   "metadata": {
    "id": "u6PlpJAPJY_N"
   },
   "outputs": [],
   "source": [
    "# import libraries for data manipulation\n",
    "import numpy as np\n",
    "import pandas as pd\n",
    "\n",
    "# import libraries for data visualization\n",
    "import matplotlib.pyplot as plt\n",
    "import seaborn as sns"
   ]
  },
  {
   "cell_type": "markdown",
   "metadata": {
    "id": "AdracY0HJY_O"
   },
   "source": [
    "### Understanding the structure of the data"
   ]
  },
  {
   "cell_type": "code",
   "execution_count": null,
   "metadata": {
    "id": "WBh2ZGB9kFhU"
   },
   "outputs": [],
   "source": [
    "# Load the dataset from the local data folder\n",
    "# The dataset is located in the data/ folder of this project directory"
   ]
  },
  {
   "cell_type": "code",
   "execution_count": null,
   "metadata": {
    "id": "GF01IZDbJY_O",
    "scrolled": true
   },
   "outputs": [],
   "source": [
    "# Read the data from the local data folder\n",
    "df = pd.read_csv('data/foodhub_order.csv')\n",
    "\n",
    "# Display basic information about the dataset\n",
    "print(f\"Dataset shape: {df.shape}\")\n",
    "print(f\"\\nColumn names: {df.columns.tolist()}\")\n",
    "\n",
    "# Returns the first 5 rows\n",
    "df.head()"
   ]
  },
  {
   "cell_type": "markdown",
   "metadata": {
    "id": "J_Y9aJDJJY_P"
   },
   "source": [
    "#### Observations:\n",
    "\n",
    "The DataFrame has 9 columns as mentioned in the Data Dictionary. Data in each row corresponds to the order placed by a customer."
   ]
  },
  {
   "cell_type": "markdown",
   "metadata": {
    "id": "c3kenV4vJY_Q"
   },
   "source": [
    "### **Question 1:** How many rows and columns are present in the data?"
   ]
  },
  {
   "cell_type": "code",
   "execution_count": null,
   "metadata": {
    "id": "Yvz5i-PhJY_Q"
   },
   "outputs": [],
   "source": [
    "numberOfRows= len(df)\n",
    "numberOfColumns= len(df.columns)\n",
    "print(f\"The total number of rows is {numberOfRows}\", f\"The total number of columns is {numberOfColumns}\", sep='\\n' )\n"
   ]
  },
  {
   "cell_type": "markdown",
   "metadata": {
    "id": "jRXakVrUJY_R"
   },
   "source": [
    "### **Question 2:** What are the datatypes of the different columns in the dataset? (The info() function can be used)"
   ]
  },
  {
   "cell_type": "code",
   "execution_count": null,
   "metadata": {
    "id": "Kp70Z0BNJY_R"
   },
   "outputs": [],
   "source": [
    "df.info()\n"
   ]
  },
  {
   "cell_type": "markdown",
   "metadata": {
    "id": "pF_92MN6JY_S"
   },
   "source": [
    "### **Question 3:** Are there any missing values in the data? If yes, treat them using an appropriate method"
   ]
  },
  {
   "cell_type": "code",
   "execution_count": null,
   "metadata": {
    "id": "Zth-RR1PJY_S"
   },
   "outputs": [],
   "source": [
    "# No missing values indicated here, else we would use the df.dropna() or use the .isna().sum() option to find the total count of null values.\n",
    "# df.isna().sum()"
   ]
  },
  {
   "cell_type": "markdown",
   "metadata": {
    "id": "jDHT3vD1JY_S"
   },
   "source": [
    "#### Observations:\n",
    " There are no missing values indicated else in the cleaning process we would get to fill or drop the null values. Since the non-null count for each column (attribute) is the total number of rows with non-null labels, we don't clean the data for null values specifically."
   ]
  },
  {
   "cell_type": "markdown",
   "metadata": {
    "id": "MnJo7MWrJY_S"
   },
   "source": [
    "### **Question 4:** Check the statistical summary of the data. What is the minimum, average, and maximum time it takes for food to be prepared once an order is placed?"
   ]
  },
  {
   "cell_type": "code",
   "execution_count": null,
   "metadata": {
    "id": "WprQBgOSJY_T"
   },
   "outputs": [],
   "source": [
    "df.describe().T\n"
   ]
  },
  {
   "cell_type": "markdown",
   "metadata": {
    "id": "9YbSOR5wJY_T"
   },
   "source": [
    "#### Observations:\n",
    "Observations: (note the transposed table has numerical fields only).\n",
    "Mean Prep Time: 2.737197e+01 mins\n",
    "Minimum Prep Time: 20.00 mins\n",
    "Max Prep Time: 35.00 mins"
   ]
  },
  {
   "cell_type": "markdown",
   "metadata": {
    "id": "cw3l58z_JY_T"
   },
   "source": [
    "### **Question 5:** How many orders are not rated?"
   ]
  },
  {
   "cell_type": "code",
   "execution_count": null,
   "metadata": {
    "id": "hEzDUL9wgksi"
   },
   "outputs": [],
   "source": [
    "print(f\"The number of orders that aren't rated are {(df['rating']=='Not given').sum()}\")\n"
   ]
  },
  {
   "cell_type": "markdown",
   "metadata": {
    "id": "7msIfXE-JY_T"
   },
   "source": [
    "### Exploratory Data Analysis (EDA)"
   ]
  },
  {
   "cell_type": "markdown",
   "metadata": {
    "id": "-2xfI28YJY_T"
   },
   "source": [
    "### Univariate Analysis"
   ]
  },
  {
   "cell_type": "markdown",
   "metadata": {
    "id": "0RHZnugBJY_U"
   },
   "source": [
    "### **Question 6:** Explore all the variables and provide observations on their distributions. (Generally, histograms, boxplots, countplots, etc. are used for univariate exploration)"
   ]
  },
  {
   "cell_type": "markdown",
   "metadata": {},
   "source": [
    "We are creating histogram boxplots for the continuous numerical variables such as cost_of_the_order, food_preparation_time, and delivery_time. This helps us understand the spread, and gives us the data's mean, median, variability, and any outliers. The fields order_id and customer_id hold no statistical significance."
   ]
  },
  {
   "cell_type": "code",
   "execution_count": null,
   "metadata": {
    "id": "rU5ZqISjJY_U"
   },
   "outputs": [],
   "source": [
    "import seaborn as sns\n",
    "import numpy as np\n",
    "import matplotlib.pyplot as plt\n",
    "\n",
    "def histogram_boxplot(feature, figsize=(15, 10), bins=\"auto\"):\n",
    "    \"\"\" Boxplot and histogram combined\n",
    "    feature: 1-d feature array\n",
    "    figsize: size of fig (default (15, 10))\n",
    "    bins: number of bins (default \"auto\")\n",
    "    \"\"\"\n",
    "    f, (ax_box, ax_hist) = plt.subplots(\n",
    "        nrows=2,  # Number of rows of the subplot grid\n",
    "        sharex=True,  # The X-axis will be shared among all the subplots\n",
    "        gridspec_kw={\"height_ratios\": (.25, .75)},\n",
    "        figsize=figsize\n",
    "    )\n",
    "\n",
    "    # Creating the subplots\n",
    "    # Boxplot will be created and the mean value of the column will be indicated using some symbol\n",
    "    sns.boxplot(x=feature, ax=ax_box, showmeans=True, color='red')\n",
    "\n",
    "    # For histogram\n",
    "    sns.histplot(x=feature, kde=False, ax=ax_hist, bins=bins)\n",
    "    ax_hist.axvline(np.mean(feature), color='g', linestyle='--')      # Add mean to the histogram\n",
    "    ax_hist.axvline(np.median(feature), color='black', linestyle='-') # Add median to the histogram\n",
    "\n",
    "    plt.show()"
   ]
  },
  {
   "cell_type": "code",
   "execution_count": null,
   "metadata": {},
   "outputs": [],
   "source": [
    "histogram_boxplot(df.cost_of_the_order)\n"
   ]
  },
  {
   "cell_type": "code",
   "execution_count": null,
   "metadata": {},
   "outputs": [],
   "source": [
    "histogram_boxplot(df.food_preparation_time)\n"
   ]
  },
  {
   "cell_type": "code",
   "execution_count": null,
   "metadata": {},
   "outputs": [],
   "source": [
    "histogram_boxplot(df.delivery_time)\n"
   ]
  },
  {
   "cell_type": "code",
   "execution_count": null,
   "metadata": {},
   "outputs": [],
   "source": [
    "num_unique_restaurants = df['restaurant_name'].nunique()\n",
    "print(f\"The number of unique restaurants are {num_unique_restaurants}\")\n"
   ]
  },
  {
   "cell_type": "code",
   "execution_count": null,
   "metadata": {},
   "outputs": [],
   "source": [
    "# Stripplot: Create a variable for the x-axis for plotting\n",
    "df['dummyVar'] = np.ones(len(df)) #populate the variable with an array of 1s to show existence and maintain constance\n",
    "\n",
    "# Plotting\n",
    "plt.figure(figsize=(10, 20))\n",
    "ax = sns.stripplot(y='restaurant_name', x='dummyVar', data=df, size=4)\n",
    "plt.xlabel('')\n",
    "plt.ylabel('Restaurant Name')\n",
    "plt.yticks(fontsize=5)  # Adjust font size to fit 178 names\n",
    "plt.title('List of Restaurants')\n",
    "ax.get_xaxis().set_visible(False)  # Hide the x-axis as it's not meaningful here\n",
    "plt.show()"
   ]
  },
  {
   "cell_type": "code",
   "execution_count": null,
   "metadata": {},
   "outputs": [],
   "source": [
    "# We can use a countplot for the Categorical Variables which naturally displays the frequency.\n",
    "# Given there are 178 unique restaurants, we are plotting the frequencies for all, understanding it might be crowded.\n",
    "\n",
    "plt.figure(figsize=(10, 30))\n",
    "ax = sns.countplot(y='restaurant_name', data=df, order=df['restaurant_name'].value_counts().index, palette='viridis')\n",
    "plt.title('Frequency of Orders by Restaurant')\n",
    "plt.xlabel('Number of Orders')\n",
    "plt.ylabel('Restaurant Name')\n",
    "plt.show()"
   ]
  },
  {
   "cell_type": "markdown",
   "metadata": {},
   "source": [
    "We could alternatively use the palette= 'Set2' for lighter colour distinction where order doesn't really matter although viridis gives a more meaningful midpoint.\n",
    "\n"
   ]
  },
  {
   "cell_type": "code",
   "execution_count": null,
   "metadata": {},
   "outputs": [],
   "source": [
    "# Set figure size for clearer visualization of each plot\n",
    "plt.figure(figsize=(12, 18))\n",
    "\n",
    "# Plot for 'day_of_the_week'\n",
    "plt.subplot(3, 1, 1) #3 rows, 1 column, current subpot position\n",
    "sns.countplot(x='day_of_the_week', data=df, palette='coolwarm')\n",
    "plt.title('Frequency of Orders by Day of the Week')\n",
    "\n",
    "# Plot for 'cuisine_type'\n",
    "plt.subplot(3, 1, 2)#3 rows, 1 column, current subpot position\n",
    "sns.countplot(y='cuisine_type', data=df, order=df['cuisine_type'].value_counts().index, palette='coolwarm')\n",
    "plt.title('Frequency of Orders by Cuisine Type')\n",
    "\n",
    "#Plot for 'rating' filter for 'Not given'\n",
    "df_filtered_ratings = df[df['rating'] != 'Not given']\n",
    "num_unique_ratings = df_filtered_ratings['rating'].nunique()#used after the plot to show the unique ratings\n",
    "plt.subplot(3, 1, 3)\n",
    "sns.countplot(x='rating', data=df_filtered_ratings, palette='coolwarm', order=df_filtered_ratings['rating'].dropna().sort_values().unique())\n",
    "plt.title('Frequency of Given Ratings')\n",
    "\n",
    "plt.tight_layout()\n",
    "plt.show()"
   ]
  },
  {
   "cell_type": "markdown",
   "metadata": {},
   "source": [
    "Observations: Number of Orders are more in amount on the Weekends. Amongst all the cuisines American seems to be the most popular, and the rating 5 is of the highest frequency with 3 as the lowest. There are only ratings of values 3, 4, 5 in the dataset. Least popular cuisine based on this sample of restaurants is Vietnamese.\n",
    "\n"
   ]
  },
  {
   "cell_type": "code",
   "execution_count": null,
   "metadata": {},
   "outputs": [],
   "source": [
    "print(f\"The number of distinct ratings are {num_unique_ratings}\")\n"
   ]
  },
  {
   "cell_type": "markdown",
   "metadata": {
    "id": "K9CqA5H_JY_U"
   },
   "source": [
    "### **Question 7**: Which are the top 5 restaurants in terms of the number of orders received?"
   ]
  },
  {
   "cell_type": "code",
   "execution_count": null,
   "metadata": {
    "id": "PaJZ3wlOJY_U"
   },
   "outputs": [],
   "source": [
    "top_5_restaurants = df['restaurant_name'].value_counts().head(5)\n",
    "top_5_restaurants"
   ]
  },
  {
   "cell_type": "markdown",
   "metadata": {
    "id": "tnjhWgUfJY_U"
   },
   "source": [
    "#### Observations:\n",
    " Out of all the top 5 restaurants - Shake Shack is the most popular and Parm is the 5th.\n",
    "\n"
   ]
  },
  {
   "cell_type": "markdown",
   "metadata": {
    "id": "gWPMqGq0JY_U"
   },
   "source": [
    "### **Question 8**: Which is the most popular cuisine on weekends?"
   ]
  },
  {
   "cell_type": "code",
   "execution_count": null,
   "metadata": {
    "id": "c-Xnus3VJY_U"
   },
   "outputs": [],
   "source": [
    "# Filtering the data for orders placed on weekends\n",
    "orders_in_the_weekend = df[df['day_of_the_week'] == 'Weekend']\n",
    "# Calculating the most popular cuisine on weekends for the number of orders\n",
    "most_popular_cuisine_the_weekend = orders_in_the_weekend['cuisine_type'].value_counts().head(1)\n",
    "most_popular_cuisine_the_weekend"
   ]
  },
  {
   "cell_type": "markdown",
   "metadata": {
    "id": "bpQ270TUJY_U"
   },
   "source": [
    "#### Observations:\n",
    "American cousine is the most popular with 415 orders"
   ]
  },
  {
   "cell_type": "markdown",
   "metadata": {
    "id": "88xgTqkxJY_U"
   },
   "source": [
    "### **Question 9**: What percentage of the orders cost more than 20 dollars?"
   ]
  },
  {
   "cell_type": "code",
   "execution_count": null,
   "metadata": {
    "id": "OTpHyTdzJY_U"
   },
   "outputs": [],
   "source": [
    "# Calculating the percentage of orders that cost more than 20 dollars\n",
    "orders_above_20_dollars = df[df['cost_of_the_order'] > 20]\n",
    "percentage_above_20_dollars = (len(orders_above_20_dollars) / len(df)) * 100\n",
    "print(f\" the percentage unrounded is {percentage_above_20_dollars}%\")\n",
    "percentage_above_20_rounded = round(percentage_above_20_dollars, 3)\n",
    "print(f\" the percentage rounded to 3 sf is  {percentage_above_20_rounded}%\")"
   ]
  },
  {
   "cell_type": "markdown",
   "metadata": {
    "id": "77KNAC5zJY_U"
   },
   "source": [
    "#### Observations:\n",
    "the percentage unrounded is 29.24130663856691%.The percentage rounded to 3 sf is 29.241%\n",
    "\n"
   ]
  },
  {
   "cell_type": "markdown",
   "metadata": {
    "id": "HFyHn7hsJY_V"
   },
   "source": [
    "### **Question 10**: What is the mean order delivery time?"
   ]
  },
  {
   "cell_type": "code",
   "execution_count": null,
   "metadata": {
    "id": "cyFL13hNJY_V"
   },
   "outputs": [],
   "source": [
    "avg_delivery_time = df['delivery_time'].mean()\n",
    "avg_delivery_time"
   ]
  },
  {
   "cell_type": "markdown",
   "metadata": {
    "id": "F35SRV-HJY_V"
   },
   "source": [
    "#### Observations:\n",
    "The mean delivery time is 24.162 mins"
   ]
  },
  {
   "cell_type": "markdown",
   "metadata": {
    "id": "48IjaOuDJY_V"
   },
   "source": [
    "### **Question 11:** The company has decided to give 20% discount vouchers to the top 3 most frequent customers. Find the IDs of these customers and the number of orders they placed"
   ]
  },
  {
   "cell_type": "code",
   "execution_count": null,
   "metadata": {
    "id": "Hz8-DE4Zge0j"
   },
   "outputs": [],
   "source": [
    "# Calculating the top 3 most frequent customers based on the number of orders placed\n",
    "top_3_customers = df['customer_id'].value_counts().head(3)\n",
    "top_3_customers"
   ]
  },
  {
   "cell_type": "markdown",
   "metadata": {
    "id": "AfIc2jPaJY_V"
   },
   "source": [
    "### Multivariate Analysis"
   ]
  },
  {
   "cell_type": "markdown",
   "metadata": {
    "id": "iqiS0RT_JY_V"
   },
   "source": [
    "### **Question 12**: Perform a multivariate analysis to explore relationships between the important variables in the dataset. (It is a good idea to explore relations between numerical variables as well as relations between numerical and categorical variables)"
   ]
  },
  {
   "cell_type": "code",
   "execution_count": null,
   "metadata": {
    "id": "3qt4MCNTJY_V"
   },
   "outputs": [],
   "source": [
    "# Calculate the correlation matrix\n",
    "corr_matrix = df[['cost_of_the_order', 'food_preparation_time', 'delivery_time']].corr() #for all the statistically significant numerical variables in the dataset\n",
    "\n",
    "# Visualize the correlation matrix with a heatmap\n",
    "plt.figure(figsize=(10, 8))\n",
    "sns.heatmap(corr_matrix, annot=True, cmap='coolwarm', center=0, fmt=\".2f\",\n",
    "            square=True, linewidths=.6, cbar_kws={\"shrink\": .6})\n",
    "plt.title('Correlation Matrix of Numerical Variables')\n",
    "plt.show()"
   ]
  },
  {
   "cell_type": "markdown",
   "metadata": {},
   "source": [
    "Observation: not a strong correlation amongst these factors except with themselves. No linear correlation with the factors either, except with themselves.\n",
    "\n"
   ]
  },
  {
   "cell_type": "code",
   "execution_count": null,
   "metadata": {},
   "outputs": [],
   "source": [
    "# Boxplot for cost_of_the_order by cuisine_type\n",
    "plt.figure(figsize=(12, 8))\n",
    "sns.boxplot(x='cost_of_the_order', y='cuisine_type', data=df, palette='Set3')\n",
    "plt.title('Cost of the Order by Cuisine Type')\n",
    "plt.show()"
   ]
  },
  {
   "cell_type": "markdown",
   "metadata": {},
   "source": [
    "Greatest IQR is that of Southern cuisine. Lowest IQR is of the Korean Cuisine. 25% of Vietnamese cuisine is minimum of the entire dataset, for cost. Outliers are present from highest to lowest in amount for Korean, Mediterranean, and Vietnamese cuisine.\n",
    "75% of the Southern Cuisine is the maximum.\n",
    "\n",
    "Variety in pricing strategies among restaurants offering different types of food is high. For example, some cuisines might inherently have higher costs due to ingredients or preparation complexity. An example of this is the Chinese restaurant\n",
    "\n",
    "Range of Prices: The interquartile range (IQR) gives insight into the consistency of pricing within that category. A wide IQR suggests a uniformity of prices within the cuisine, indicating a menu which caters to both economical and premium options.\n",
    "\n",
    "Affordability: Cuisines with a lower median cost and fewer high-cost outliers might be seen as more affordable, alluring a different customer category altogether.\n",
    "\n",
    "Outliers and Premium Options: Presence of outliers above the upper whisker for certain cuisines as mentioned in the first few pointers could indicate premium dishes or orders that are significantly more expensive than the average for that cuisine. This could indicate that some restaurants or cuisines offer specialty items that demand higher prices."
   ]
  },
  {
   "cell_type": "code",
   "execution_count": null,
   "metadata": {},
   "outputs": [],
   "source": [
    "# Boxplot for delivery_time by day_of_the_week\n",
    "plt.figure(figsize=(10, 6))\n",
    "sns.boxplot(x='day_of_the_week', y='delivery_time', data=df, palette='Set2')\n",
    "plt.title('Delivery Time by Day of the Week')\n",
    "plt.show()"
   ]
  },
  {
   "cell_type": "markdown",
   "metadata": {},
   "source": [
    "The Median for the Weekend is lower that the weekday suggesting that there is more traffic or travelling obstacles for the weekday. IQR of the weekend is greater than that of the weekday suggesting greater demand in the weekend matched with a greater spread of time influencing the customer satisfaction\n",
    "\n",
    "Outliers on the greater end, represent deliveries that took longer than most. This could incurr because of order volumem, distance of locations or other operational/ logistical inefficiencies that need to be sorted."
   ]
  },
  {
   "cell_type": "markdown",
   "metadata": {
    "id": "YLkMf09YJY_V"
   },
   "source": [
    "### **Question 13:** The company wants to provide a promotional offer in the advertisement of the restaurants. The condition to get the offer is that the restaurants must have a rating count of more than 50 and the average rating should be greater than 4. Find the restaurants fulfilling the criteria to get the promotional offer"
   ]
  },
  {
   "cell_type": "code",
   "execution_count": null,
   "metadata": {
    "id": "0M_QDvbYJY_V"
   },
   "outputs": [],
   "source": [
    "# Clean the ratings column and convert ratings to numeric\n",
    "df['rating_clean'] = pd.to_numeric(df['rating'], errors='coerce') ##converts incompatible values to NaN (Not a Number). This is useful to ensure the conversion process executes regardless of any input discrepencies\n",
    "# we already know that the data is void of null_values\n",
    "# Group the data by 'restaurant_name', calculate the mean rating and count for each restaurant\n",
    "grouped_restaurants = df.groupby('restaurant_name').agg(\n",
    "    average_rating=('rating_clean', 'mean'),\n",
    "    rating_count=('rating_clean', 'count')\n",
    ")\n",
    "\n",
    "# Filter the grouped data to find restaurants with more than 50 ratings and an average rating greater than 4\n",
    "eligible_restaurants = grouped_restaurants[(grouped_restaurants['rating_count'] > 50) &\n",
    "                                           (grouped_restaurants['average_rating'] > 4)]\n",
    "eligible_restaurants"
   ]
  },
  {
   "cell_type": "markdown",
   "metadata": {
    "id": "1gvWBkRUJY_V"
   },
   "source": [
    "### **Question 14:** The company charges the restaurant 25% on the orders having cost greater than 20 dollars and 15% on the orders having cost greater than 5 dollars. Find the net revenue generated by the company across all orders"
   ]
  },
  {
   "cell_type": "code",
   "execution_count": null,
   "metadata": {
    "id": "rEjbnTNEJY_W"
   },
   "outputs": [],
   "source": [
    "# Revenue generated by the company for each order\n",
    "def calculate_revenue(row_entry):\n",
    "    if row_entry['cost_of_the_order'] > 20:\n",
    "        return row_entry['cost_of_the_order'] * 0.25 ## Apply the charges\n",
    "    elif row_entry['cost_of_the_order'] > 5:\n",
    "        return row_entry['cost_of_the_order'] * 0.15\n",
    "    else:\n",
    "        return 0\n",
    "\n",
    "# Apply the function to each row of the DataFrame\n",
    "df['revenue'] = df.apply(calculate_revenue, axis=1)# function is applied to each row\n",
    "\n",
    "# Total net revenue generated by the company across all orders\n",
    "net_revenue = df['revenue'].sum()\n",
    "print(f\" The net revenue is {net_revenue} usd\")"
   ]
  },
  {
   "cell_type": "markdown",
   "metadata": {
    "id": "pRlVW-oeJY_W"
   },
   "source": [
    "### **Question 15:** The company wants to analyze the total time required to deliver the food. What percentage of orders take more than 60 minutes to get delivered from the time the order is placed? (The food has to be prepared and then delivered)"
   ]
  },
  {
   "cell_type": "code",
   "execution_count": null,
   "metadata": {
    "id": "zxoTrxfLJY_W"
   },
   "outputs": [],
   "source": [
    "# Calculate the total time required for delivery (food preparation time + delivery time)\n",
    "df['total_delivery_time'] = df['food_preparation_time'] + df['delivery_time']\n",
    "\n",
    "# Calculate the percentage of orders that take > than 60 minutes\n",
    "orders_over_60_minutes = (df['total_delivery_time'] > 60).sum() #find entries satisfying the criteria\n",
    "total_orders = len(df)\n",
    "percentage_over_60_minutes = (orders_over_60_minutes / total_orders) * 100\n",
    "\n",
    "print(f\"The resulting percentage is {round(percentage_over_60_minutes, 3)}%\")"
   ]
  },
  {
   "cell_type": "markdown",
   "metadata": {
    "id": "bUd6cYpPJY_W"
   },
   "source": [
    "### **Question 16:** The company wants to analyze the delivery time of the orders on weekdays and weekends. How does the mean delivery time vary during weekdays and weekends?"
   ]
  },
  {
   "cell_type": "code",
   "execution_count": null,
   "metadata": {
    "id": "pIU5xZZ6JY_W"
   },
   "outputs": [],
   "source": [
    "# Calculate the mean delivery time for weekdays and weekends\n",
    "mean_delivery_time_for_weekdays = df[df['day_of_the_week'] == 'Weekday']['delivery_time'].mean()\n",
    "mean_delivery_time_for_weekends = df[df['day_of_the_week'] == 'Weekend']['delivery_time'].mean()\n",
    "mean_delivery_time_for_weekdays, mean_delivery_time_for_weekends"
   ]
  },
  {
   "cell_type": "markdown",
   "metadata": {
    "id": "8H-ODxbVJY_W"
   },
   "source": [
    "#### Observations:\n",
    "The mean delivery_time on weekdays is greater than the mean delivery_time on weekends"
   ]
  },
  {
   "cell_type": "markdown",
   "metadata": {
    "id": "17roJywaJY_W"
   },
   "source": [
    "### Conclusion and Recommendations"
   ]
  },
  {
   "cell_type": "markdown",
   "metadata": {
    "id": "ZdX2Wz4FJY_W"
   },
   "source": [
    "### **Question 17:** What are your conclusions from the analysis? What recommendations would you like to share to help improve the business? (You can use cuisine type and feedback ratings to drive your business recommendations)"
   ]
  },
  {
   "cell_type": "markdown",
   "metadata": {
    "id": "VTugVsL4Ddz-"
   },
   "source": [
    "### Conclusions:\n",
    "*  The company charges 25% on orders costing more than 20 USD and 15% on orders cost more that 5 USD.This implies a tiered pricing model where the commission rate changes based on the order value,the structure is effective, particularly for orders over $20. This approach capitalizes on higher-priced orders efficiently, contributing significantly to net revenue.\n",
    "\n",
    "* Cuisine types with higher average ratings and numerous reviews (e.g., restaurants qualifying for the promotional offer with ratings above 4 and more than 50 reviews) indicate strong customer preference and satisfaction.\n",
    "\n",
    "* Variability in delivery times, with weekdays averaging 28.34 minutes and weekends 22.47 minutes, suggests possibilities for optimization, maybe due to factors like traffic or order volume.\n",
    "\n",
    "* With around 10.54% of orders exceeding 60 minutes for delivery, for those expecting faster service, there's a potential impact on customer satisfaction. Hence there exists room for improving the margin of satisfaction."
   ]
  },
  {
   "cell_type": "markdown",
   "metadata": {
    "id": "PWnsI0i_guWJ"
   },
   "source": [
    "### Recommendations:\n",
    "\n",
    "* Popular Cuisines - Incentivize the addition of restaurants offering highly rated cuisines (e.g., those identified in the promotional offer: Blue Ribbon Fried Chicken, Blue Ribbon Sushi, Shake Shack, and The Meatball Shop) to cater to customer preferences and attract a wider customer base.\n",
    "\n",
    "* Investigate and address the causes of extended delivery times during weekdays. Include optimizing delivery routes or adjusting staffing based on demand, check the net benefit of adjusting or hiring more delivery staff vs saving on delivery time\n",
    "\n",
    "* Use feedback and customer ratings to guide improvements in service and offerings. Highlight restaurants with high ratings to inform customer choices and enhance satisfaction.\n",
    "\n",
    "* Implement measures to reduce delivery times for orders exceeding 60 minutes, such as providing real-time order status updates to customers.\n",
    "\n",
    "* Continuously analyze customer preferences, behavior, and operational and logistical metrics to drive business decisions, aiming for improved efficiency and customer engagement.\n",
    "\n",
    "* Use Data for Promotions: Design promotional and loyalty programs around popular and highly rated cuisines and restaurants, encouraging ROIS and customers return and satisfaction."
   ]
  },
  {
   "cell_type": "markdown",
   "metadata": {
    "id": "tSoucKKbg9Hc"
   },
   "source": [
    "---"
   ]
  }
 ],
 "metadata": {
  "colab": {
   "collapsed_sections": [],
   "name": "PYF_Project_LearnerNotebook_FullCode.ipynb",
   "provenance": []
  },
  "hide_input": false,
  "kernelspec": {
   "display_name": "Python 3 (ipykernel)",
   "language": "python",
   "name": "python3"
  },
  "language_info": {
   "codemirror_mode": {
    "name": "ipython",
    "version": 3
   },
   "file_extension": ".py",
   "mimetype": "text/x-python",
   "name": "python",
   "nbconvert_exporter": "python",
   "pygments_lexer": "ipython3",
   "version": "3.9.13"
  },
  "toc": {
   "base_numbering": 1,
   "nav_menu": {},
   "number_sections": true,
   "sideBar": true,
   "skip_h1_title": false,
   "title_cell": "Table of Contents",
   "title_sidebar": "Contents",
   "toc_cell": false,
   "toc_position": {},
   "toc_section_display": true,
   "toc_window_display": false
  },
  "varInspector": {
   "cols": {
    "lenName": 16,
    "lenType": 16,
    "lenVar": 40
   },
   "kernels_config": {
    "python": {
     "delete_cmd_postfix": "",
     "delete_cmd_prefix": "del ",
     "library": "var_list.py",
     "varRefreshCmd": "print(var_dic_list())"
    },
    "r": {
     "delete_cmd_postfix": ") ",
     "delete_cmd_prefix": "rm(",
     "library": "var_list.r",
     "varRefreshCmd": "cat(var_dic_list()) "
    }
   },
   "types_to_exclude": [
    "module",
    "function",
    "builtin_function_or_method",
    "instance",
    "_Feature"
   ],
   "window_display": false
  }
 },
 "nbformat": 4,
 "nbformat_minor": 1
}
